{
  "nbformat": 4,
  "nbformat_minor": 0,
  "metadata": {
    "colab": {
      "name": "news classification.ipynb",
      "provenance": []
    },
    "kernelspec": {
      "name": "python3",
      "display_name": "Python 3"
    },
    "language_info": {
      "name": "python"
    }
  },
  "cells": [
    {
      "cell_type": "code",
      "execution_count": 1,
      "metadata": {
        "id": "HXjjc0-RWlAW"
      },
      "outputs": [],
      "source": [
        "from sklearn.datasets import fetch_20newsgroups"
      ]
    },
    {
      "cell_type": "markdown",
      "source": [
        "# Загрузка данных. Статьи и разметка (20 классов)."
      ],
      "metadata": {
        "id": "D65IpxND6DLr"
      }
    },
    {
      "cell_type": "code",
      "source": [
        "data_train = fetch_20newsgroups(subset='train')\n",
        "data_test = fetch_20newsgroups(subset='test')"
      ],
      "metadata": {
        "id": "HeF0FfN2XOp4"
      },
      "execution_count": 2,
      "outputs": []
    },
    {
      "cell_type": "code",
      "source": [
        "dir(data_train)"
      ],
      "metadata": {
        "colab": {
          "base_uri": "https://localhost:8080/"
        },
        "id": "bIDy4xzXXmVC",
        "outputId": "8acd63fc-40e0-4224-a34b-e079fe9e0286"
      },
      "execution_count": 3,
      "outputs": [
        {
          "output_type": "execute_result",
          "data": {
            "text/plain": [
              "['DESCR', 'data', 'filenames', 'target', 'target_names']"
            ]
          },
          "metadata": {},
          "execution_count": 3
        }
      ]
    },
    {
      "cell_type": "code",
      "source": [
        "dir(data_test)"
      ],
      "metadata": {
        "colab": {
          "base_uri": "https://localhost:8080/"
        },
        "id": "ADF2zjM0Xrja",
        "outputId": "a94ab89f-bba9-476e-ec6e-d630a8529603"
      },
      "execution_count": 4,
      "outputs": [
        {
          "output_type": "execute_result",
          "data": {
            "text/plain": [
              "['DESCR', 'data', 'filenames', 'target', 'target_names']"
            ]
          },
          "metadata": {},
          "execution_count": 4
        }
      ]
    },
    {
      "cell_type": "code",
      "source": [
        "len(data_train.data), len(data_test.data)"
      ],
      "metadata": {
        "colab": {
          "base_uri": "https://localhost:8080/"
        },
        "id": "r-Y4VLTAXtdC",
        "outputId": "64e42296-487a-48fc-8d57-a518fcb63496"
      },
      "execution_count": 5,
      "outputs": [
        {
          "output_type": "execute_result",
          "data": {
            "text/plain": [
              "(11314, 7532)"
            ]
          },
          "metadata": {},
          "execution_count": 5
        }
      ]
    },
    {
      "cell_type": "code",
      "source": [
        "for i, (name1, name2) in enumerate(zip(data_train.target_names, \n",
        "                                       data_test.target_names)):\n",
        "  print(i, name1, \"-\", name2)"
      ],
      "metadata": {
        "colab": {
          "base_uri": "https://localhost:8080/"
        },
        "id": "oz8kf5hWXyGx",
        "outputId": "786e44b5-9b41-4ac8-e97c-8a3400a2971f"
      },
      "execution_count": 6,
      "outputs": [
        {
          "output_type": "stream",
          "name": "stdout",
          "text": [
            "0 alt.atheism - alt.atheism\n",
            "1 comp.graphics - comp.graphics\n",
            "2 comp.os.ms-windows.misc - comp.os.ms-windows.misc\n",
            "3 comp.sys.ibm.pc.hardware - comp.sys.ibm.pc.hardware\n",
            "4 comp.sys.mac.hardware - comp.sys.mac.hardware\n",
            "5 comp.windows.x - comp.windows.x\n",
            "6 misc.forsale - misc.forsale\n",
            "7 rec.autos - rec.autos\n",
            "8 rec.motorcycles - rec.motorcycles\n",
            "9 rec.sport.baseball - rec.sport.baseball\n",
            "10 rec.sport.hockey - rec.sport.hockey\n",
            "11 sci.crypt - sci.crypt\n",
            "12 sci.electronics - sci.electronics\n",
            "13 sci.med - sci.med\n",
            "14 sci.space - sci.space\n",
            "15 soc.religion.christian - soc.religion.christian\n",
            "16 talk.politics.guns - talk.politics.guns\n",
            "17 talk.politics.mideast - talk.politics.mideast\n",
            "18 talk.politics.misc - talk.politics.misc\n",
            "19 talk.religion.misc - talk.religion.misc\n"
          ]
        }
      ]
    },
    {
      "cell_type": "code",
      "source": [
        "print(data_train.data[0])"
      ],
      "metadata": {
        "colab": {
          "base_uri": "https://localhost:8080/"
        },
        "id": "g2XV23oEYFq2",
        "outputId": "2ad21180-ab5e-4536-986e-76d28a0c8311"
      },
      "execution_count": 7,
      "outputs": [
        {
          "output_type": "stream",
          "name": "stdout",
          "text": [
            "From: lerxst@wam.umd.edu (where's my thing)\n",
            "Subject: WHAT car is this!?\n",
            "Nntp-Posting-Host: rac3.wam.umd.edu\n",
            "Organization: University of Maryland, College Park\n",
            "Lines: 15\n",
            "\n",
            " I was wondering if anyone out there could enlighten me on this car I saw\n",
            "the other day. It was a 2-door sports car, looked to be from the late 60s/\n",
            "early 70s. It was called a Bricklin. The doors were really small. In addition,\n",
            "the front bumper was separate from the rest of the body. This is \n",
            "all I know. If anyone can tellme a model name, engine specs, years\n",
            "of production, where this car is made, history, or whatever info you\n",
            "have on this funky looking car, please e-mail.\n",
            "\n",
            "Thanks,\n",
            "- IL\n",
            "   ---- brought to you by your neighborhood Lerxst ----\n",
            "\n",
            "\n",
            "\n",
            "\n",
            "\n"
          ]
        }
      ]
    },
    {
      "cell_type": "markdown",
      "source": [
        "# Использование логистической регрессии"
      ],
      "metadata": {
        "id": "_LxgevnbbUl4"
      }
    },
    {
      "cell_type": "code",
      "source": [
        "from sklearn.feature_extraction.text import TfidfVectorizer, CountVectorizer, HashingVectorizer"
      ],
      "metadata": {
        "id": "BF64mCObY8sa"
      },
      "execution_count": 8,
      "outputs": []
    },
    {
      "cell_type": "code",
      "source": [
        "vectorizer = TfidfVectorizer() # можно попробовать другие векторизаторы, а также поэкспериментировать с параметрами"
      ],
      "metadata": {
        "id": "N4hW6KegfJU7"
      },
      "execution_count": 9,
      "outputs": []
    },
    {
      "cell_type": "code",
      "source": [
        "data_train_vec = vectorizer.fit_transform(data_train.data)\n",
        "data_test_vec = vectorizer.transform(data_test.data)"
      ],
      "metadata": {
        "id": "lH33iks3aRA4"
      },
      "execution_count": 10,
      "outputs": []
    },
    {
      "cell_type": "code",
      "source": [
        "type(data_train_vec), data_train_vec.shape"
      ],
      "metadata": {
        "colab": {
          "base_uri": "https://localhost:8080/"
        },
        "id": "ZNkZ0vHRafJq",
        "outputId": "d853814e-ea20-4da9-c289-6484f6c7018e"
      },
      "execution_count": 11,
      "outputs": [
        {
          "output_type": "execute_result",
          "data": {
            "text/plain": [
              "(scipy.sparse.csr.csr_matrix, (11314, 130107))"
            ]
          },
          "metadata": {},
          "execution_count": 11
        }
      ]
    },
    {
      "cell_type": "code",
      "source": [
        "from sklearn.linear_model import LogisticRegression"
      ],
      "metadata": {
        "id": "5UKfg-T9akXq"
      },
      "execution_count": 12,
      "outputs": []
    },
    {
      "cell_type": "code",
      "source": [
        "model = LogisticRegression(max_iter=100_000)"
      ],
      "metadata": {
        "id": "bZ2brIgGbFNm"
      },
      "execution_count": 13,
      "outputs": []
    },
    {
      "cell_type": "code",
      "source": [
        "model.fit(data_train_vec, data_train.target)"
      ],
      "metadata": {
        "colab": {
          "base_uri": "https://localhost:8080/"
        },
        "id": "0mMx_yzzbKXz",
        "outputId": "b4ba6689-5d6a-46a5-fdb6-42290d8bc701"
      },
      "execution_count": 14,
      "outputs": [
        {
          "output_type": "execute_result",
          "data": {
            "text/plain": [
              "LogisticRegression(max_iter=100000)"
            ]
          },
          "metadata": {},
          "execution_count": 14
        }
      ]
    },
    {
      "cell_type": "code",
      "source": [
        "model.score(data_train_vec, data_train.target)"
      ],
      "metadata": {
        "colab": {
          "base_uri": "https://localhost:8080/"
        },
        "id": "ztczGAwsfWif",
        "outputId": "a84fcb91-1db2-463d-a09d-4f557b9c6022"
      },
      "execution_count": 15,
      "outputs": [
        {
          "output_type": "execute_result",
          "data": {
            "text/plain": [
              "0.9761357610040657"
            ]
          },
          "metadata": {},
          "execution_count": 15
        }
      ]
    },
    {
      "cell_type": "code",
      "source": [
        "model.score(data_test_vec, data_test.target)"
      ],
      "metadata": {
        "colab": {
          "base_uri": "https://localhost:8080/"
        },
        "id": "ejJ94KJjbQ1r",
        "outputId": "6cdae2d4-173d-4397-cd35-eeb816cf11b6"
      },
      "execution_count": 16,
      "outputs": [
        {
          "output_type": "execute_result",
          "data": {
            "text/plain": [
              "0.8274030801911842"
            ]
          },
          "metadata": {},
          "execution_count": 16
        }
      ]
    },
    {
      "cell_type": "markdown",
      "source": [
        "# Использование нейронной сети"
      ],
      "metadata": {
        "id": "-hHufgq5fbaj"
      }
    },
    {
      "cell_type": "markdown",
      "source": [
        "Формируем словарь всех токенов - частей тектов, разделенных пробелами.\n",
        "Будет много \"шума\".\n",
        "Можно попробовать провести очистку для улучшения качества обучения классификатора."
      ],
      "metadata": {
        "id": "Uxlrmam-6eUc"
      }
    },
    {
      "cell_type": "code",
      "source": [
        "vocab = set()\n",
        "\n",
        "for text_ in data_train.data:\n",
        "  words = text_.split()\n",
        "  for word_ in words:\n",
        "    vocab.add(word_)\n",
        "\n",
        "for text_ in data_test.data:\n",
        "  words = text_.split()\n",
        "  for word_ in words:\n",
        "    vocab.add(word_)    "
      ],
      "metadata": {
        "id": "YHtP_3WtcUR-"
      },
      "execution_count": 17,
      "outputs": []
    },
    {
      "cell_type": "code",
      "source": [
        "len(vocab)"
      ],
      "metadata": {
        "colab": {
          "base_uri": "https://localhost:8080/"
        },
        "id": "HUGLXS-Adfhg",
        "outputId": "d1c99e3d-9346-41f9-97fd-663061d34c6b"
      },
      "execution_count": 18,
      "outputs": [
        {
          "output_type": "execute_result",
          "data": {
            "text/plain": [
              "386410"
            ]
          },
          "metadata": {},
          "execution_count": 18
        }
      ]
    },
    {
      "cell_type": "markdown",
      "source": [
        "Формируем python словарь: \"слово\"-\"индекс слова\""
      ],
      "metadata": {
        "id": "tg5_x4rn6uvs"
      }
    },
    {
      "cell_type": "code",
      "source": [
        "word_dict = dict()\n",
        "for i, word in enumerate(vocab):\n",
        "  word_dict[word] = i"
      ],
      "metadata": {
        "id": "_2lmDa6oeXYD"
      },
      "execution_count": 19,
      "outputs": []
    },
    {
      "cell_type": "markdown",
      "source": [
        "Векторизуем тексты, подставляем вместо слов их индексы из словаря word_dict"
      ],
      "metadata": {
        "id": "EuEwIZHE60_s"
      }
    },
    {
      "cell_type": "code",
      "source": [
        "vectorized_train_texts = []\n",
        "for text_ in data_train.data:\n",
        "  words = text_.split()\n",
        "  tmp = []\n",
        "  for word_ in words:\n",
        "    tmp.append(word_dict[word_])\n",
        "  vectorized_train_texts.append(tmp)"
      ],
      "metadata": {
        "id": "WZ49iiB9eYK7"
      },
      "execution_count": 20,
      "outputs": []
    },
    {
      "cell_type": "code",
      "source": [
        "len(vectorized_train_texts[0]), len(data_train.data[0].split())"
      ],
      "metadata": {
        "colab": {
          "base_uri": "https://localhost:8080/"
        },
        "id": "Xb2DXZXcgea-",
        "outputId": "e278e9ac-97d5-4737-811f-69bb55968412"
      },
      "execution_count": 21,
      "outputs": [
        {
          "output_type": "execute_result",
          "data": {
            "text/plain": [
              "(123, 123)"
            ]
          },
          "metadata": {},
          "execution_count": 21
        }
      ]
    },
    {
      "cell_type": "markdown",
      "source": [
        "Создаем нейронную сеть, готовим данные для обучения, обучаем"
      ],
      "metadata": {
        "id": "BRZCv64Q68IV"
      }
    },
    {
      "cell_type": "code",
      "source": [
        "from tensorflow.keras.preprocessing.sequence import pad_sequences\n",
        "from tensorflow.keras.utils import to_categorical"
      ],
      "metadata": {
        "id": "00Q-CR-YkE1W"
      },
      "execution_count": 22,
      "outputs": []
    },
    {
      "cell_type": "code",
      "source": [
        "vectorized_train_texts_pad = pad_sequences(vectorized_train_texts, maxlen=1000)"
      ],
      "metadata": {
        "id": "Pd9AdIVTj_h3"
      },
      "execution_count": 23,
      "outputs": []
    },
    {
      "cell_type": "code",
      "source": [
        "vectorized_train_texts_pad.shape"
      ],
      "metadata": {
        "colab": {
          "base_uri": "https://localhost:8080/"
        },
        "id": "fdY2G_5Zkk6S",
        "outputId": "5cce4391-90ad-459a-dd47-554bc2e9d755"
      },
      "execution_count": 24,
      "outputs": [
        {
          "output_type": "execute_result",
          "data": {
            "text/plain": [
              "(11314, 1000)"
            ]
          },
          "metadata": {},
          "execution_count": 24
        }
      ]
    },
    {
      "cell_type": "code",
      "source": [
        "train_target_ohe = to_categorical(data_train.target)"
      ],
      "metadata": {
        "id": "EeVIUqssmJRp"
      },
      "execution_count": 25,
      "outputs": []
    },
    {
      "cell_type": "code",
      "source": [
        "data_train.target.shape, train_target_ohe.shape"
      ],
      "metadata": {
        "colab": {
          "base_uri": "https://localhost:8080/"
        },
        "id": "XE-oweGDmZkf",
        "outputId": "ed09a286-0773-4bf6-d0e0-930595b203b4"
      },
      "execution_count": 26,
      "outputs": [
        {
          "output_type": "execute_result",
          "data": {
            "text/plain": [
              "((11314,), (11314, 20))"
            ]
          },
          "metadata": {},
          "execution_count": 26
        }
      ]
    },
    {
      "cell_type": "code",
      "source": [
        "from tensorflow.keras.models import Sequential\n",
        "from tensorflow.keras.layers import Dense, SimpleRNN, Embedding"
      ],
      "metadata": {
        "id": "eXGdfjpdh3Uq"
      },
      "execution_count": 27,
      "outputs": []
    },
    {
      "cell_type": "code",
      "source": [
        "model = Sequential()\n",
        "model.add(Embedding(len(vocab), 5, input_length=1000))\n",
        "model.add(SimpleRNN(100))\n",
        "model.add(Dense(20, activation='softmax'))"
      ],
      "metadata": {
        "id": "tcKEovQ1iUkc"
      },
      "execution_count": 28,
      "outputs": []
    },
    {
      "cell_type": "code",
      "source": [
        "model.compile(optimizer='RMSprop', \n",
        "              loss='categorical_crossentropy', \n",
        "              metrics=['accuracy'])"
      ],
      "metadata": {
        "id": "GxrBS6mTiXHa"
      },
      "execution_count": 29,
      "outputs": []
    },
    {
      "cell_type": "code",
      "source": [
        "model.summary()"
      ],
      "metadata": {
        "colab": {
          "base_uri": "https://localhost:8080/"
        },
        "id": "TcOHE1H0lYOE",
        "outputId": "22a04f70-495b-4811-b521-94a47602bd3f"
      },
      "execution_count": 30,
      "outputs": [
        {
          "output_type": "stream",
          "name": "stdout",
          "text": [
            "Model: \"sequential\"\n",
            "_________________________________________________________________\n",
            " Layer (type)                Output Shape              Param #   \n",
            "=================================================================\n",
            " embedding (Embedding)       (None, 1000, 5)           1932050   \n",
            "                                                                 \n",
            " simple_rnn (SimpleRNN)      (None, 100)               10600     \n",
            "                                                                 \n",
            " dense (Dense)               (None, 20)                2020      \n",
            "                                                                 \n",
            "=================================================================\n",
            "Total params: 1,944,670\n",
            "Trainable params: 1,944,670\n",
            "Non-trainable params: 0\n",
            "_________________________________________________________________\n"
          ]
        }
      ]
    },
    {
      "cell_type": "code",
      "source": [
        "vectorized_train_texts_pad.shape"
      ],
      "metadata": {
        "colab": {
          "base_uri": "https://localhost:8080/"
        },
        "id": "dkDVA8pMluXH",
        "outputId": "265e0fd5-9293-4b81-8583-273b55ee1dbc"
      },
      "execution_count": 31,
      "outputs": [
        {
          "output_type": "execute_result",
          "data": {
            "text/plain": [
              "(11314, 1000)"
            ]
          },
          "metadata": {},
          "execution_count": 31
        }
      ]
    },
    {
      "cell_type": "code",
      "source": [
        "model.fit(vectorized_train_texts_pad, train_target_ohe, epochs=1)"
      ],
      "metadata": {
        "colab": {
          "base_uri": "https://localhost:8080/"
        },
        "id": "qYiif0DhiymD",
        "outputId": "a25e04c2-a7f0-416c-a358-5c320cec19f8"
      },
      "execution_count": 32,
      "outputs": [
        {
          "output_type": "stream",
          "name": "stdout",
          "text": [
            "354/354 [==============================] - 105s 294ms/step - loss: 3.0136 - accuracy: 0.0536\n"
          ]
        },
        {
          "output_type": "execute_result",
          "data": {
            "text/plain": [
              "<keras.callbacks.History at 0x7fdc312d8250>"
            ]
          },
          "metadata": {},
          "execution_count": 32
        }
      ]
    },
    {
      "cell_type": "markdown",
      "source": [
        "Подготовим данные для тестирования модели"
      ],
      "metadata": {
        "id": "1z28SXqV8dwt"
      }
    },
    {
      "cell_type": "code",
      "source": [
        "vectorized_test_texts = []\n",
        "for text_ in data_test.data:\n",
        "  words = text_.split()\n",
        "  tmp = []\n",
        "  for word_ in words:\n",
        "    tmp.append(word_dict[word_])\n",
        "  vectorized_test_texts.append(tmp)\n",
        "\n",
        "vectorized_test_texts_pad = pad_sequences(vectorized_test_texts, maxlen=1000)\n",
        "\n",
        "test_target_ohe = to_categorical(data_test.target)"
      ],
      "metadata": {
        "id": "L850tU2j8aav"
      },
      "execution_count": 33,
      "outputs": []
    },
    {
      "cell_type": "code",
      "source": [
        "model.evaluate(vectorized_test_texts_pad, test_target_ohe)"
      ],
      "metadata": {
        "id": "bbt8urVYi8jv",
        "colab": {
          "base_uri": "https://localhost:8080/"
        },
        "outputId": "acc8a3c4-93c7-4510-bd97-d0b2acdb4935"
      },
      "execution_count": 35,
      "outputs": [
        {
          "output_type": "stream",
          "name": "stdout",
          "text": [
            "236/236 [==============================] - 19s 80ms/step - loss: 2.9967 - accuracy: 0.0532\n"
          ]
        },
        {
          "output_type": "execute_result",
          "data": {
            "text/plain": [
              "[2.9967384338378906, 0.05323951318860054]"
            ]
          },
          "metadata": {},
          "execution_count": 35
        }
      ]
    },
    {
      "cell_type": "markdown",
      "source": [
        "Результаты обучения нейронной сети удручающие ) Что сделать для их улучшения? Экспериментируйте, присылайте результаты на ychernyshov@ussc.ru"
      ],
      "metadata": {
        "id": "c6jiMn1kAsQ9"
      }
    },
    {
      "cell_type": "code",
      "source": [
        ""
      ],
      "metadata": {
        "id": "jPEeqDPKAlyB"
      },
      "execution_count": null,
      "outputs": []
    }
  ]
}