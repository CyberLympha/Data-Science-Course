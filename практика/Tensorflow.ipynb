{
  "nbformat": 4,
  "nbformat_minor": 0,
  "metadata": {
    "colab": {
      "name": "Tensorflow (google colab).ipynb",
      "provenance": []
    },
    "kernelspec": {
      "name": "python3",
      "display_name": "Python 3"
    },
    "language_info": {
      "name": "python"
    }
  },
  "cells": [
    {
      "cell_type": "markdown",
      "source": [
        "# Использование фреймворка Tensorflow.\n",
        "\n",
        "Знакомство с фреймворком, создание простых полносвязный нейронных сетей.\n",
        "\n",
        "Для практики лучше загрузить этот ноутбук в google colab.\n",
        "\n"
      ],
      "metadata": {
        "id": "Es6mDEP4Eq_A"
      }
    },
    {
      "cell_type": "code",
      "source": [
        "import matplotlib.pyplot as plt\n",
        "import numpy as np\n",
        "import tensorflow as tf"
      ],
      "metadata": {
        "id": "3tc349889JVC"
      },
      "execution_count": 2,
      "outputs": []
    },
    {
      "cell_type": "markdown",
      "source": [
        "В Tensorflow все объекты являются \"тензорами\" (не в классическим математическом смысле, а просто объемными матрицами) к которым применяются различные математические операции (сложение тензоров, умножение и т.п.). Поток (flow) этих операций и составляет процесс, который программируется с помощью tensorflow."
      ],
      "metadata": {
        "id": "Ay5JPESHE1BP"
      }
    },
    {
      "cell_type": "code",
      "source": [
        "a = tf.Variable([1, -1, 2, -2])\n",
        "print(a)\n",
        "print(a.numpy())\n",
        "print(tf.abs(a))"
      ],
      "metadata": {
        "colab": {
          "base_uri": "https://localhost:8080/"
        },
        "id": "RYGUhvzU6Xlx",
        "outputId": "f2aed38f-1069-48c7-fcd0-6044b60590c2"
      },
      "execution_count": 4,
      "outputs": [
        {
          "output_type": "stream",
          "name": "stdout",
          "text": [
            "<tf.Variable 'Variable:0' shape=(4,) dtype=int32, numpy=array([ 1, -1,  2, -2], dtype=int32)>\n",
            "[ 1 -1  2 -2]\n",
            "tf.Tensor([1 1 2 2], shape=(4,), dtype=int32)\n"
          ]
        }
      ]
    },
    {
      "cell_type": "markdown",
      "source": [
        "# Пример 1: классификация"
      ],
      "metadata": {
        "id": "bdGpbypPFmca"
      }
    },
    {
      "cell_type": "code",
      "source": [
        "from sklearn.datasets import make_classification"
      ],
      "metadata": {
        "id": "7EtZOMZQ7I_9"
      },
      "execution_count": 7,
      "outputs": []
    },
    {
      "cell_type": "code",
      "source": [
        "data = make_classification(n_samples=1000, n_features=2, n_redundant=0, n_classes=2)"
      ],
      "metadata": {
        "id": "aYWS73Op8Gyd"
      },
      "execution_count": 8,
      "outputs": []
    },
    {
      "cell_type": "code",
      "source": [
        "points = data[0]\n",
        "targets = data[1]"
      ],
      "metadata": {
        "id": "joKBjCQ19n1H"
      },
      "execution_count": 11,
      "outputs": []
    },
    {
      "cell_type": "code",
      "source": [
        "plt.scatter(points[:,0], points[:,1], c=targets)\n",
        "plt.show()"
      ],
      "metadata": {
        "colab": {
          "base_uri": "https://localhost:8080/",
          "height": 265
        },
        "id": "Csd_J3LG80PT",
        "outputId": "3c8d17dd-d031-473e-f0f4-c9c9689b284f"
      },
      "execution_count": 13,
      "outputs": [
        {
          "output_type": "display_data",
          "data": {
            "text/plain": [
              "<Figure size 432x288 with 1 Axes>"
            ],
            "image/png": "[encoded data removed]"
          },
          "metadata": {
            "needs_background": "light"
          }
        }
      ]
    },
    {
      "cell_type": "code",
      "source": [
        "from tensorflow.keras.models import Sequential\n",
        "from tensorflow.keras.layers import Dense"
      ],
      "metadata": {
        "id": "AZh4TWmN9QRE"
      },
      "execution_count": 15,
      "outputs": []
    },
    {
      "cell_type": "markdown",
      "source": [
        "Создадим простуй нейросеть с одним скрытым слоем из 50 нейронов и выходным слоем из одного нейрона, который будет давать вероятность отнесения к классу \"1\"."
      ],
      "metadata": {
        "id": "sMa4WRBuGEV4"
      }
    },
    {
      "cell_type": "code",
      "source": [
        "model = Sequential()\n",
        "model.add(Dense(50, activation='sigmoid'))\n",
        "model.add(Dense(1, activation='sigmoid'))\n",
        "model.compile(optimizer='rmsprop', loss='MSE', metrics=['accuracy'])"
      ],
      "metadata": {
        "id": "LarswNgz_W-z"
      },
      "execution_count": 17,
      "outputs": []
    },
    {
      "cell_type": "code",
      "source": [
        "model.fit(points, targets, epochs=10, verbose=1)"
      ],
      "metadata": {
        "colab": {
          "base_uri": "https://localhost:8080/"
        },
        "id": "Qv1hckY2BBAf",
        "outputId": "e6e85db8-4b14-4482-db67-cacb6f18c447"
      },
      "execution_count": 18,
      "outputs": [
        {
          "output_type": "stream",
          "name": "stdout",
          "text": [
            "Epoch 1/10\n",
            "32/32 [==============================] - 1s 1ms/step - loss: 0.2587 - accuracy: 0.5210\n",
            "Epoch 2/10\n",
            "32/32 [==============================] - 0s 1ms/step - loss: 0.2261 - accuracy: 0.7440\n",
            "Epoch 3/10\n",
            "32/32 [==============================] - 0s 955us/step - loss: 0.2049 - accuracy: 0.9010\n",
            "Epoch 4/10\n",
            "32/32 [==============================] - 0s 1ms/step - loss: 0.1864 - accuracy: 0.9200\n",
            "Epoch 5/10\n",
            "32/32 [==============================] - 0s 1ms/step - loss: 0.1691 - accuracy: 0.9250\n",
            "Epoch 6/10\n",
            "32/32 [==============================] - 0s 1ms/step - loss: 0.1531 - accuracy: 0.9240\n",
            "Epoch 7/10\n",
            "32/32 [==============================] - 0s 1ms/step - loss: 0.1384 - accuracy: 0.9250\n",
            "Epoch 8/10\n",
            "32/32 [==============================] - 0s 1ms/step - loss: 0.1248 - accuracy: 0.9280\n",
            "Epoch 9/10\n",
            "32/32 [==============================] - 0s 1ms/step - loss: 0.1125 - accuracy: 0.9280\n",
            "Epoch 10/10\n",
            "32/32 [==============================] - 0s 1ms/step - loss: 0.1022 - accuracy: 0.9260\n"
          ]
        },
        {
          "output_type": "execute_result",
          "data": {
            "text/plain": [
              "<keras.callbacks.History at 0x7fd44bb5c950>"
            ]
          },
          "metadata": {},
          "execution_count": 18
        }
      ]
    },
    {
      "cell_type": "code",
      "source": [
        "from sklearn.metrics import classification_report"
      ],
      "metadata": {
        "id": "4UcMwMTZBjGa"
      },
      "execution_count": 19,
      "outputs": []
    },
    {
      "cell_type": "markdown",
      "source": [
        "Модель возвращает нам вероятности, а нам нужны метки 0 или 1. Запишем в класс 1 все элементы с вероятностью большей 0.75."
      ],
      "metadata": {
        "id": "4w2HfLEWGdzf"
      }
    },
    {
      "cell_type": "code",
      "source": [
        "result = [1 if x > 0.75 else 0 for x in model.predict(points)]"
      ],
      "metadata": {
        "id": "1aAcSJ2HCjVq"
      },
      "execution_count": 20,
      "outputs": []
    },
    {
      "cell_type": "code",
      "source": [
        "print(classification_report(targets, result))"
      ],
      "metadata": {
        "colab": {
          "base_uri": "https://localhost:8080/"
        },
        "id": "y0njGNu9B8DB",
        "outputId": "52519ac9-d057-4674-fd8c-705ea7d3ef22"
      },
      "execution_count": 21,
      "outputs": [
        {
          "output_type": "stream",
          "name": "stdout",
          "text": [
            "              precision    recall  f1-score   support\n",
            "\n",
            "           0       0.65      1.00      0.78       501\n",
            "           1       1.00      0.45      0.62       499\n",
            "\n",
            "    accuracy                           0.73      1000\n",
            "   macro avg       0.82      0.72      0.70      1000\n",
            "weighted avg       0.82      0.72      0.70      1000\n",
            "\n"
          ]
        }
      ]
    },
    {
      "cell_type": "markdown",
      "source": [
        "Видим, что результаты не очень высокие. Можно постараться их улучшить, усложнив архитектуру сети (например, добавив дополнительный слой нейронов). Попробуйте сделать это самостоятельно."
      ],
      "metadata": {
        "id": "__FPuNGvGzCY"
      }
    },
    {
      "cell_type": "code",
      "source": [
        "model.predict(points[0:1])"
      ],
      "metadata": {
        "colab": {
          "base_uri": "https://localhost:8080/"
        },
        "id": "KVw3OgiRCBxG",
        "outputId": "0927b2c4-7dce-4c34-9eb7-957fe2cb1f9c"
      },
      "execution_count": 23,
      "outputs": [
        {
          "output_type": "execute_result",
          "data": {
            "text/plain": [
              "array([[0.45834383]], dtype=float32)"
            ]
          },
          "metadata": {},
          "execution_count": 23
        }
      ]
    },
    {
      "cell_type": "code",
      "source": [
        "model.summary()"
      ],
      "metadata": {
        "colab": {
          "base_uri": "https://localhost:8080/"
        },
        "id": "nmlhvbg5CHas",
        "outputId": "19665dc3-c838-4fd2-d62c-4943cfcc6641"
      },
      "execution_count": 24,
      "outputs": [
        {
          "output_type": "stream",
          "name": "stdout",
          "text": [
            "Model: \"sequential_1\"\n",
            "_________________________________________________________________\n",
            " Layer (type)                Output Shape              Param #   \n",
            "=================================================================\n",
            " dense_2 (Dense)             (None, 50)                150       \n",
            "                                                                 \n",
            " dense_3 (Dense)             (None, 1)                 51        \n",
            "                                                                 \n",
            "=================================================================\n",
            "Total params: 201\n",
            "Trainable params: 201\n",
            "Non-trainable params: 0\n",
            "_________________________________________________________________\n"
          ]
        }
      ]
    },
    {
      "cell_type": "markdown",
      "source": [
        "# Пример 2: распознавание рукописных цифр"
      ],
      "metadata": {
        "id": "5fDDnS7tHCcy"
      }
    },
    {
      "cell_type": "code",
      "source": [
        "from sklearn.datasets import load_digits"
      ],
      "metadata": {
        "id": "khMBPFPeElc6"
      },
      "execution_count": 25,
      "outputs": []
    },
    {
      "cell_type": "code",
      "source": [
        "data = load_digits()"
      ],
      "metadata": {
        "id": "KFR1bcIkFaWD"
      },
      "execution_count": 26,
      "outputs": []
    },
    {
      "cell_type": "code",
      "source": [
        "model1 = Sequential()\n",
        "model1.add(Dense(100, activation='sigmoid', input_shape=(64,)))\n",
        "model1.add(Dense(100, activation='sigmoid'))\n",
        "model1.add(Dense(10, activation='softmax'))"
      ],
      "metadata": {
        "id": "qVrD0ICtFdnX"
      },
      "execution_count": 27,
      "outputs": []
    },
    {
      "cell_type": "code",
      "source": [
        "model1.compile(optimizer='rmsprop', loss='categorical_crossentropy', metrics=['accuracy'])"
      ],
      "metadata": {
        "id": "BbX-J26AGkY6"
      },
      "execution_count": 28,
      "outputs": []
    },
    {
      "cell_type": "code",
      "source": [
        "data.target"
      ],
      "metadata": {
        "colab": {
          "base_uri": "https://localhost:8080/"
        },
        "id": "L-cVUVu0G0gj",
        "outputId": "06f20c85-97a3-47bd-f731-f131edd0a6c8"
      },
      "execution_count": 29,
      "outputs": [
        {
          "output_type": "execute_result",
          "data": {
            "text/plain": [
              "array([0, 1, 2, ..., 8, 9, 8])"
            ]
          },
          "metadata": {},
          "execution_count": 29
        }
      ]
    },
    {
      "cell_type": "code",
      "source": [
        "y = tf.keras.utils.to_categorical(data.target)"
      ],
      "metadata": {
        "id": "yxjMSO8dG8XT"
      },
      "execution_count": 30,
      "outputs": []
    },
    {
      "cell_type": "code",
      "source": [
        "y[50], data.target[50]"
      ],
      "metadata": {
        "colab": {
          "base_uri": "https://localhost:8080/"
        },
        "id": "PO_mHA0YHy5G",
        "outputId": "3f0836df-1685-4cc0-caa3-72124ae67b1d"
      },
      "execution_count": 31,
      "outputs": [
        {
          "output_type": "execute_result",
          "data": {
            "text/plain": [
              "(array([0., 0., 1., 0., 0., 0., 0., 0., 0., 0.], dtype=float32), 2)"
            ]
          },
          "metadata": {},
          "execution_count": 31
        }
      ]
    },
    {
      "cell_type": "code",
      "source": [
        "history = model1.fit(data.data, y, validation_split=0.1, epochs=10)"
      ],
      "metadata": {
        "colab": {
          "base_uri": "https://localhost:8080/"
        },
        "id": "eb_qsy1aH0IB",
        "outputId": "0b81388d-8416-4650-ec56-eb9ade1ff3f6"
      },
      "execution_count": 32,
      "outputs": [
        {
          "output_type": "stream",
          "name": "stdout",
          "text": [
            "Epoch 1/10\n",
            "51/51 [==============================] - 1s 5ms/step - loss: 1.9243 - accuracy: 0.5646 - val_loss: 1.5742 - val_accuracy: 0.7667\n",
            "Epoch 2/10\n",
            "51/51 [==============================] - 0s 2ms/step - loss: 1.2316 - accuracy: 0.8639 - val_loss: 1.0249 - val_accuracy: 0.8278\n",
            "Epoch 3/10\n",
            "51/51 [==============================] - 0s 2ms/step - loss: 0.7472 - accuracy: 0.9153 - val_loss: 0.6669 - val_accuracy: 0.8944\n",
            "Epoch 4/10\n",
            "51/51 [==============================] - 0s 2ms/step - loss: 0.4611 - accuracy: 0.9425 - val_loss: 0.5128 - val_accuracy: 0.8667\n",
            "Epoch 5/10\n",
            "51/51 [==============================] - 0s 2ms/step - loss: 0.3000 - accuracy: 0.9573 - val_loss: 0.3946 - val_accuracy: 0.9056\n",
            "Epoch 6/10\n",
            "51/51 [==============================] - 0s 2ms/step - loss: 0.2099 - accuracy: 0.9672 - val_loss: 0.3052 - val_accuracy: 0.9222\n",
            "Epoch 7/10\n",
            "51/51 [==============================] - 0s 2ms/step - loss: 0.1557 - accuracy: 0.9728 - val_loss: 0.2823 - val_accuracy: 0.9333\n",
            "Epoch 8/10\n",
            "51/51 [==============================] - 0s 2ms/step - loss: 0.1174 - accuracy: 0.9814 - val_loss: 0.2837 - val_accuracy: 0.9389\n",
            "Epoch 9/10\n",
            "51/51 [==============================] - 0s 2ms/step - loss: 0.0924 - accuracy: 0.9827 - val_loss: 0.2589 - val_accuracy: 0.9167\n",
            "Epoch 10/10\n",
            "51/51 [==============================] - 0s 2ms/step - loss: 0.0780 - accuracy: 0.9845 - val_loss: 0.2651 - val_accuracy: 0.9056\n"
          ]
        }
      ]
    },
    {
      "cell_type": "code",
      "source": [
        "plt.plot(history.history['loss'])\n",
        "plt.plot(history.history['val_loss'])\n",
        "plt.plot(history.history['val_accuracy'])\n",
        "plt.show()"
      ],
      "metadata": {
        "colab": {
          "base_uri": "https://localhost:8080/",
          "height": 268
        },
        "id": "qE5GeqFfIFdR",
        "outputId": "59cf5c8c-2152-43c0-f458-9a6ab02c0ad0"
      },
      "execution_count": 33,
      "outputs": [
        {
          "output_type": "display_data",
          "data": {
            "text/plain": [
              "<Figure size 432x288 with 1 Axes>"
            ],
            "image/png": "[encoded data removed]"
          },
          "metadata": {
            "needs_background": "light"
          }
        }
      ]
    },
    {
      "cell_type": "code",
      "source": [
        ""
      ],
      "metadata": {
        "id": "72Tq5NzmJQOl"
      },
      "execution_count": null,
      "outputs": []
    }
  ]
}